{
 "cells": [
  {
   "cell_type": "code",
   "execution_count": 13,
   "id": "cf1d2fd0",
   "metadata": {},
   "outputs": [],
   "source": [
    "from sklearn.feature_extraction.text import TfidfVectorizer"
   ]
  },
  {
   "cell_type": "code",
   "execution_count": 14,
   "id": "1f820ff6",
   "metadata": {},
   "outputs": [],
   "source": [
    "corpus=[\n",
    "    'Apple is announcing new iphone tomorrow',\n",
    "    'Tesla is announcing new model-3 tomorrow',\n",
    "    'Google is announcing new pixel-6 tomorrow',\n",
    "    'Amazon is announcing new eco-dot tomorrow',\n",
    "    'I am eating biryani and you are eating grapes',\n",
    "    'something is amazing'\n",
    "]"
   ]
  },
  {
   "cell_type": "code",
   "execution_count": 15,
   "id": "9deb2b9b",
   "metadata": {},
   "outputs": [],
   "source": [
    "v=TfidfVectorizer()\n",
    "transformed_output=v.fit_transform(corpus)"
   ]
  },
  {
   "cell_type": "code",
   "execution_count": 16,
   "id": "cb2dacd0",
   "metadata": {},
   "outputs": [
    {
     "name": "stdout",
     "output_type": "stream",
     "text": [
      "{'apple': 5, 'is': 14, 'announcing': 4, 'new': 16, 'iphone': 13, 'tomorrow': 20, 'tesla': 19, 'model': 15, 'google': 11, 'pixel': 17, 'amazon': 2, 'eco': 10, 'dot': 8, 'am': 0, 'eating': 9, 'biryani': 7, 'and': 3, 'you': 21, 'are': 6, 'grapes': 12, 'something': 18, 'amazing': 1}\n"
     ]
    }
   ],
   "source": [
    "print(v.vocabulary_)"
   ]
  },
  {
   "cell_type": "code",
   "execution_count": 17,
   "id": "487b696b",
   "metadata": {},
   "outputs": [
    {
     "data": {
      "text/plain": [
       "['__annotations__',\n",
       " '__class__',\n",
       " '__delattr__',\n",
       " '__dict__',\n",
       " '__dir__',\n",
       " '__doc__',\n",
       " '__eq__',\n",
       " '__format__',\n",
       " '__ge__',\n",
       " '__getattribute__',\n",
       " '__getstate__',\n",
       " '__gt__',\n",
       " '__hash__',\n",
       " '__init__',\n",
       " '__init_subclass__',\n",
       " '__le__',\n",
       " '__lt__',\n",
       " '__module__',\n",
       " '__ne__',\n",
       " '__new__',\n",
       " '__reduce__',\n",
       " '__reduce_ex__',\n",
       " '__repr__',\n",
       " '__setattr__',\n",
       " '__setstate__',\n",
       " '__sizeof__',\n",
       " '__sklearn_clone__',\n",
       " '__str__',\n",
       " '__subclasshook__',\n",
       " '__weakref__',\n",
       " '_build_request_for_signature',\n",
       " '_char_ngrams',\n",
       " '_char_wb_ngrams',\n",
       " '_check_feature_names',\n",
       " '_check_n_features',\n",
       " '_check_params',\n",
       " '_check_stop_words_consistency',\n",
       " '_check_vocabulary',\n",
       " '_count_vocab',\n",
       " '_get_default_requests',\n",
       " '_get_metadata_request',\n",
       " '_get_param_names',\n",
       " '_get_tags',\n",
       " '_limit_features',\n",
       " '_more_tags',\n",
       " '_parameter_constraints',\n",
       " '_repr_html_',\n",
       " '_repr_html_inner',\n",
       " '_repr_mimebundle_',\n",
       " '_sort_features',\n",
       " '_stop_words_id',\n",
       " '_tfidf',\n",
       " '_validate_data',\n",
       " '_validate_ngram_range',\n",
       " '_validate_params',\n",
       " '_validate_vocabulary',\n",
       " '_warn_for_unused_params',\n",
       " '_white_spaces',\n",
       " '_word_ngrams',\n",
       " 'analyzer',\n",
       " 'binary',\n",
       " 'build_analyzer',\n",
       " 'build_preprocessor',\n",
       " 'build_tokenizer',\n",
       " 'decode',\n",
       " 'decode_error',\n",
       " 'dtype',\n",
       " 'encoding',\n",
       " 'fit',\n",
       " 'fit_transform',\n",
       " 'fixed_vocabulary_',\n",
       " 'get_feature_names_out',\n",
       " 'get_metadata_routing',\n",
       " 'get_params',\n",
       " 'get_stop_words',\n",
       " 'idf_',\n",
       " 'input',\n",
       " 'inverse_transform',\n",
       " 'lowercase',\n",
       " 'max_df',\n",
       " 'max_features',\n",
       " 'min_df',\n",
       " 'ngram_range',\n",
       " 'norm',\n",
       " 'preprocessor',\n",
       " 'set_fit_request',\n",
       " 'set_params',\n",
       " 'set_transform_request',\n",
       " 'smooth_idf',\n",
       " 'stop_words',\n",
       " 'stop_words_',\n",
       " 'strip_accents',\n",
       " 'sublinear_tf',\n",
       " 'token_pattern',\n",
       " 'tokenizer',\n",
       " 'transform',\n",
       " 'use_idf',\n",
       " 'vocabulary',\n",
       " 'vocabulary_']"
      ]
     },
     "execution_count": 17,
     "metadata": {},
     "output_type": "execute_result"
    }
   ],
   "source": [
    "dir(v)"
   ]
  },
  {
   "cell_type": "code",
   "execution_count": 18,
   "id": "69da876c",
   "metadata": {},
   "outputs": [
    {
     "data": {
      "text/plain": [
       "array(['am', 'amazing', 'amazon', 'and', 'announcing', 'apple', 'are',\n",
       "       'biryani', 'dot', 'eating', 'eco', 'google', 'grapes', 'iphone',\n",
       "       'is', 'model', 'new', 'pixel', 'something', 'tesla', 'tomorrow',\n",
       "       'you'], dtype=object)"
      ]
     },
     "execution_count": 18,
     "metadata": {},
     "output_type": "execute_result"
    }
   ],
   "source": [
    "v.get_feature_names_out()"
   ]
  },
  {
   "cell_type": "code",
   "execution_count": 20,
   "id": "f8bd09a7",
   "metadata": {},
   "outputs": [
    {
     "name": "stdout",
     "output_type": "stream",
     "text": [
      "am 2.252762968495368\n",
      "amazing 2.252762968495368\n",
      "amazon 2.252762968495368\n",
      "and 2.252762968495368\n",
      "announcing 1.336472236621213\n",
      "apple 2.252762968495368\n",
      "are 2.252762968495368\n",
      "biryani 2.252762968495368\n",
      "dot 2.252762968495368\n",
      "eating 2.252762968495368\n",
      "eco 2.252762968495368\n",
      "google 2.252762968495368\n",
      "grapes 2.252762968495368\n",
      "iphone 2.252762968495368\n",
      "is 1.1541506798272583\n",
      "model 2.252762968495368\n",
      "new 1.336472236621213\n",
      "pixel 2.252762968495368\n",
      "something 2.252762968495368\n",
      "tesla 2.252762968495368\n",
      "tomorrow 1.336472236621213\n",
      "you 2.252762968495368\n"
     ]
    }
   ],
   "source": [
    "all_feature_names=v.get_feature_names_out()\n",
    "for word in all_feature_names:\n",
    "    indx=v.vocabulary_.get(word)\n",
    "    print(f'{word} {v.idf_[indx]}')"
   ]
  },
  {
   "cell_type": "code",
   "execution_count": 21,
   "id": "bac52e88",
   "metadata": {},
   "outputs": [
    {
     "data": {
      "text/plain": [
       "['Apple is announcing new iphone tomorrow',\n",
       " 'Tesla is announcing new model-3 tomorrow']"
      ]
     },
     "execution_count": 21,
     "metadata": {},
     "output_type": "execute_result"
    }
   ],
   "source": [
    "corpus[:2]"
   ]
  },
  {
   "cell_type": "code",
   "execution_count": 22,
   "id": "3ee0426a",
   "metadata": {},
   "outputs": [
    {
     "data": {
      "text/plain": [
       "array([[0.        , 0.        , 0.        , 0.        , 0.3256743 ,\n",
       "        0.5489579 , 0.        , 0.        , 0.        , 0.        ,\n",
       "        0.        , 0.        , 0.        , 0.5489579 , 0.28124581,\n",
       "        0.        , 0.3256743 , 0.        , 0.        , 0.        ,\n",
       "        0.3256743 , 0.        ],\n",
       "       [0.        , 0.        , 0.        , 0.        , 0.3256743 ,\n",
       "        0.        , 0.        , 0.        , 0.        , 0.        ,\n",
       "        0.        , 0.        , 0.        , 0.        , 0.28124581,\n",
       "        0.5489579 , 0.3256743 , 0.        , 0.        , 0.5489579 ,\n",
       "        0.3256743 , 0.        ]])"
      ]
     },
     "execution_count": 22,
     "metadata": {},
     "output_type": "execute_result"
    }
   ],
   "source": [
    "transformed_output.toarray()[:2]"
   ]
  }
 ],
 "metadata": {
  "kernelspec": {
   "display_name": "Python 3 (ipykernel)",
   "language": "python",
   "name": "python3"
  },
  "language_info": {
   "codemirror_mode": {
    "name": "ipython",
    "version": 3
   },
   "file_extension": ".py",
   "mimetype": "text/x-python",
   "name": "python",
   "nbconvert_exporter": "python",
   "pygments_lexer": "ipython3",
   "version": "3.10.5"
  }
 },
 "nbformat": 4,
 "nbformat_minor": 5
}
